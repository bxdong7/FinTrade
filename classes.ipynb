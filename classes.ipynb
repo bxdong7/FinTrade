{
 "cells": [
  {
   "cell_type": "markdown",
   "metadata": {},
   "source": [
    "# This is the file where I am going to keep all of the classes so that I can make changes here and the PRs can be read more easily"
   ]
  },
  {
   "cell_type": "code",
   "execution_count": 6,
   "metadata": {},
   "outputs": [],
   "source": [
    "import yfinance\n",
    "import pandas as pd"
   ]
  },
  {
   "cell_type": "code",
   "execution_count": 19,
   "metadata": {},
   "outputs": [],
   "source": [
    "#Class #1\n",
    "\n",
    "class dataLoad:\n",
    "    \"\"\"\n",
    "    This class will be used to load in the data used for the trading methods used later.\n",
    "\n",
    "    Attributes:\n",
    "    \n",
    "\n",
    "\n",
    "    \"\"\"\n",
    "\n",
    "    def __init__(self) -> None:\n",
    "        pass\n",
    "\n",
    "    def __load_stocks(self) -> None:\n",
    "        self.etfs = ['VGT', 'IVV', 'SWPPX', 'VTI', 'DIA', 'QQQ', 'IWM', 'DBC', 'SWTSX', 'WFIVX', 'VNQ', 'SMH',\n",
    "            'FNCMX', 'OEF', 'MDY', 'IWO', 'VUG', 'NASDX', 'SDY', 'SSO', 'GLD', 'XLK', 'XLV', 'IWV',\n",
    "            'VOO', 'VGELX','VINIX', 'AGTHX', 'VWO', 'VXF', 'SCHD', 'XLE', 'VIG', 'IWR', 'VOE', 'VB', 'VO', 'SCHA', 'VHT', 'IHF']\n",
    "\n",
    "        histData = [(\"VGT\", '2004-01-26' , 0.10, 'Technology Sector'), (\"IVV\",'2000-05-15', 0.03, 'Large-Cap Blend'), \n",
    "               (\"SWPPX\", '1997-05-19', 0.02, 'Large-Cap Blend'), (\"VTI\",'2001-05-24' , 0.03, 'Large Blend'), \n",
    "               (\"DIA\",'1998-01-13', 0.16, 'Large Value'), (\"QQQ\",'1999-03-10', 0.20, 'Large Growth'), (\"IWM\",'2000-05-22', 0.19, 'Small-Cap Blend'), \n",
    "               (\"DBC\",'2006-02-03', 0.85, 'Commodities Broad Basket'), (\"SWTSX\",'1999-06-01', 0.03, 'Large-Cap Blend'), \n",
    "               (\"WFIVX\",'1999-02-01', 0.54, 'Large-Cap Growth'), (\"VNQ\",'2004-09-23', 0.12, 'Real Estate'), (\"SMH\",'2011-12-20', 0.35, 'Semiconductors'), \n",
    "               (\"FNCMX\", '2003-09-25', 0.29, 'Large-Cap Growth'), (\"OEF\", '2000-10-23', 0.20, 'Large Blend'), \n",
    "               (\"MDY\", '1995-05-04', 0.23, 'Mid-Cap Blend'), (\"IWO\",'2000-07-24', 0.23, 'Small Growth'), (\"VUG\", '2004-01-26', 0.04, 'Large-Cap Growth'), \n",
    "               (\"NASDX\", '2000-01-18', 0.50, 'Large Growth'), (\"SDY\", '2005-11-08', 0.35, 'Mid-Cap Value'), \n",
    "               (\"SSO\", '2006-06-19', 0.89, 'Leveraged Large-Cap Blend'), (\"GLD\", '2004-11-18', 0.40, 'Gold') , \n",
    "               (\"XLK\", '1998-12-16', 0.10, 'Technology Sector'), (\"XLV\", '1998-12-16', 0.10, 'Healthcare Sector'), \n",
    "               (\"XLE\", '1998-12-16', 0.10, 'Energy Sector'), (\"IWV\", '2000-05-22', 0.20, 'Large Blend'), (\"VGELX\", '2001-11-12', 0.25, 'Large-Cap Value'),\n",
    "               (\"VINIX\", '1990-07-31', 0.02, 'Large Blend'), (\"AGTHX\", '1973-12-01', 1.39, 'Large-Cap Growth'), \n",
    "               (\"VWO\", '2005-03-04', 0.08, 'Emerging Markets'), (\"VXF\", '2001-12-27', 0.06, 'Mid-Cap Blend'), (\"SCHD\", '2011-10-20', 0.06, 'Large Value'),\n",
    "               (\"VOO\",'2010-09-07' ,0.14, 'Large-Cap Blend'),  ('VIG','2006-04-21' , 0.08, 'Large Blend'), ('IWR', '2001-07-17', 0.18, 'Mid-Cap Blend'),\n",
    "               ('VOE', '2006-08-17', 0.07, 'Mid-Cap Value'), ('VB', '2004-01-26', 0.03, 'Small Blend'), ('VO', '2001-11-12', 0.05, 'Mid-Cap Blend'),\n",
    "               ('SCHA', '2009-11-03' ,0.04, 'Small Blend'), ('VHT', '2004-02-05', 0.10, 'Healthcare Sector'), \n",
    "               ('IHF', '2006-05-01', 0.39, 'Healthcare Sector')]\n",
    "        \n",
    "        stockDataFrame = pd.DataFrame(histData , columns=['Stock', 'Inception_Date', 'Expense_Ratio', 'Category'])\n",
    "\n",
    "        return stockDataFrame.head(5)"
   ]
  },
  {
   "cell_type": "code",
   "execution_count": 21,
   "metadata": {},
   "outputs": [
    {
     "data": {
      "text/html": [
       "<div>\n",
       "<style scoped>\n",
       "    .dataframe tbody tr th:only-of-type {\n",
       "        vertical-align: middle;\n",
       "    }\n",
       "\n",
       "    .dataframe tbody tr th {\n",
       "        vertical-align: top;\n",
       "    }\n",
       "\n",
       "    .dataframe thead th {\n",
       "        text-align: right;\n",
       "    }\n",
       "</style>\n",
       "<table border=\"1\" class=\"dataframe\">\n",
       "  <thead>\n",
       "    <tr style=\"text-align: right;\">\n",
       "      <th></th>\n",
       "      <th>Stock</th>\n",
       "      <th>Inception_Date</th>\n",
       "      <th>Expense_Ratio</th>\n",
       "      <th>Category</th>\n",
       "    </tr>\n",
       "  </thead>\n",
       "  <tbody>\n",
       "    <tr>\n",
       "      <th>0</th>\n",
       "      <td>VGT</td>\n",
       "      <td>2004-01-26</td>\n",
       "      <td>0.10</td>\n",
       "      <td>Technology Sector</td>\n",
       "    </tr>\n",
       "    <tr>\n",
       "      <th>1</th>\n",
       "      <td>IVV</td>\n",
       "      <td>2000-05-15</td>\n",
       "      <td>0.03</td>\n",
       "      <td>Large-Cap Blend</td>\n",
       "    </tr>\n",
       "    <tr>\n",
       "      <th>2</th>\n",
       "      <td>SWPPX</td>\n",
       "      <td>1997-05-19</td>\n",
       "      <td>0.02</td>\n",
       "      <td>Large-Cap Blend</td>\n",
       "    </tr>\n",
       "    <tr>\n",
       "      <th>3</th>\n",
       "      <td>VTI</td>\n",
       "      <td>2001-05-24</td>\n",
       "      <td>0.03</td>\n",
       "      <td>Large Blend</td>\n",
       "    </tr>\n",
       "    <tr>\n",
       "      <th>4</th>\n",
       "      <td>DIA</td>\n",
       "      <td>1998-01-13</td>\n",
       "      <td>0.16</td>\n",
       "      <td>Large Value</td>\n",
       "    </tr>\n",
       "  </tbody>\n",
       "</table>\n",
       "</div>"
      ],
      "text/plain": [
       "   Stock Inception_Date  Expense_Ratio           Category\n",
       "0    VGT     2004-01-26           0.10  Technology Sector\n",
       "1    IVV     2000-05-15           0.03    Large-Cap Blend\n",
       "2  SWPPX     1997-05-19           0.02    Large-Cap Blend\n",
       "3    VTI     2001-05-24           0.03        Large Blend\n",
       "4    DIA     1998-01-13           0.16        Large Value"
      ]
     },
     "execution_count": 21,
     "metadata": {},
     "output_type": "execute_result"
    }
   ],
   "source": [
    "data._dataLoad__load_stocks()"
   ]
  },
  {
   "cell_type": "code",
   "execution_count": null,
   "metadata": {},
   "outputs": [],
   "source": []
  },
  {
   "cell_type": "code",
   "execution_count": 22,
   "metadata": {},
   "outputs": [],
   "source": [
    "#Class #2"
   ]
  },
  {
   "cell_type": "code",
   "execution_count": null,
   "metadata": {},
   "outputs": [],
   "source": []
  }
 ],
 "metadata": {
  "kernelspec": {
   "display_name": "Python 3.10.11 64-bit (microsoft store)",
   "language": "python",
   "name": "python3"
  },
  "language_info": {
   "codemirror_mode": {
    "name": "ipython",
    "version": 3
   },
   "file_extension": ".py",
   "mimetype": "text/x-python",
   "name": "python",
   "nbconvert_exporter": "python",
   "pygments_lexer": "ipython3",
   "version": "3.10.11"
  },
  "orig_nbformat": 4,
  "vscode": {
   "interpreter": {
    "hash": "c66c414bb5828e35fb9401ff1a65441791869db0e134a48c3be4c6c28e754224"
   }
  }
 },
 "nbformat": 4,
 "nbformat_minor": 2
}
