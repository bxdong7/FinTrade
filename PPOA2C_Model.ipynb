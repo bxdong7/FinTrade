{
  "cells": [
    {
      "cell_type": "code",
      "execution_count": 66,
      "metadata": {
        "colab": {
          "base_uri": "https://localhost:8080/"
        },
        "id": "ZgNLzLghprs2",
        "outputId": "3747caf1-cc06-4a9b-9128-fbe8705a27a7"
      },
      "outputs": [
        {
          "name": "stdout",
          "output_type": "stream",
          "text": [
            "Requirement already satisfied: gymnasium in c:\\users\\12016\\appdata\\local\\packages\\pythonsoftwarefoundation.python.3.10_qbz5n2kfra8p0\\localcache\\local-packages\\python310\\site-packages (0.28.1)\n",
            "Requirement already satisfied: numpy>=1.21.0 in c:\\users\\12016\\appdata\\local\\packages\\pythonsoftwarefoundation.python.3.10_qbz5n2kfra8p0\\localcache\\local-packages\\python310\\site-packages (from gymnasium) (1.24.3)\n",
            "Requirement already satisfied: jax-jumpy>=1.0.0 in c:\\users\\12016\\appdata\\local\\packages\\pythonsoftwarefoundation.python.3.10_qbz5n2kfra8p0\\localcache\\local-packages\\python310\\site-packages (from gymnasium) (1.0.0)\n",
            "Requirement already satisfied: cloudpickle>=1.2.0 in c:\\users\\12016\\appdata\\local\\packages\\pythonsoftwarefoundation.python.3.10_qbz5n2kfra8p0\\localcache\\local-packages\\python310\\site-packages (from gymnasium) (2.2.1)\n",
            "Requirement already satisfied: typing-extensions>=4.3.0 in c:\\users\\12016\\appdata\\local\\packages\\pythonsoftwarefoundation.python.3.10_qbz5n2kfra8p0\\localcache\\local-packages\\python310\\site-packages (from gymnasium) (4.3.0)\n",
            "Requirement already satisfied: farama-notifications>=0.0.1 in c:\\users\\12016\\appdata\\local\\packages\\pythonsoftwarefoundation.python.3.10_qbz5n2kfra8p0\\localcache\\local-packages\\python310\\site-packages (from gymnasium) (0.0.4)\n",
            "Note: you may need to restart the kernel to use updated packages.\n"
          ]
        },
        {
          "name": "stderr",
          "output_type": "stream",
          "text": [
            "WARNING: Ignoring invalid distribution -rotobuf (c:\\users\\12016\\appdata\\local\\packages\\pythonsoftwarefoundation.python.3.10_qbz5n2kfra8p0\\localcache\\local-packages\\python310\\site-packages)\n",
            "WARNING: Ignoring invalid distribution -rotobuf (c:\\users\\12016\\appdata\\local\\packages\\pythonsoftwarefoundation.python.3.10_qbz5n2kfra8p0\\localcache\\local-packages\\python310\\site-packages)\n",
            "\n",
            "[notice] A new release of pip is available: 23.2 -> 23.2.1\n",
            "[notice] To update, run: C:\\Users\\12016\\AppData\\Local\\Microsoft\\WindowsApps\\PythonSoftwareFoundation.Python.3.10_qbz5n2kfra8p0\\python.exe -m pip install --upgrade pip\n"
          ]
        },
        {
          "name": "stdout",
          "output_type": "stream",
          "text": [
            "Requirement already satisfied: stable_baselines3 in c:\\users\\12016\\appdata\\local\\packages\\pythonsoftwarefoundation.python.3.10_qbz5n2kfra8p0\\localcache\\local-packages\\python310\\site-packages (2.0.0)\n",
            "Requirement already satisfied: gymnasium==0.28.1 in c:\\users\\12016\\appdata\\local\\packages\\pythonsoftwarefoundation.python.3.10_qbz5n2kfra8p0\\localcache\\local-packages\\python310\\site-packages (from stable_baselines3) (0.28.1)\n",
            "Requirement already satisfied: numpy>=1.20 in c:\\users\\12016\\appdata\\local\\packages\\pythonsoftwarefoundation.python.3.10_qbz5n2kfra8p0\\localcache\\local-packages\\python310\\site-packages (from stable_baselines3) (1.24.3)\n",
            "Requirement already satisfied: torch>=1.11 in c:\\users\\12016\\appdata\\local\\packages\\pythonsoftwarefoundation.python.3.10_qbz5n2kfra8p0\\localcache\\local-packages\\python310\\site-packages (from stable_baselines3) (1.12.1)\n",
            "Requirement already satisfied: cloudpickle in c:\\users\\12016\\appdata\\local\\packages\\pythonsoftwarefoundation.python.3.10_qbz5n2kfra8p0\\localcache\\local-packages\\python310\\site-packages (from stable_baselines3) (2.2.1)\n",
            "Requirement already satisfied: pandas in c:\\users\\12016\\appdata\\local\\packages\\pythonsoftwarefoundation.python.3.10_qbz5n2kfra8p0\\localcache\\local-packages\\python310\\site-packages (from stable_baselines3) (1.4.3)\n",
            "Requirement already satisfied: matplotlib in c:\\users\\12016\\appdata\\local\\packages\\pythonsoftwarefoundation.python.3.10_qbz5n2kfra8p0\\localcache\\local-packages\\python310\\site-packages (from stable_baselines3) (3.5.2)\n",
            "Requirement already satisfied: jax-jumpy>=1.0.0 in c:\\users\\12016\\appdata\\local\\packages\\pythonsoftwarefoundation.python.3.10_qbz5n2kfra8p0\\localcache\\local-packages\\python310\\site-packages (from gymnasium==0.28.1->stable_baselines3) (1.0.0)\n",
            "Requirement already satisfied: typing-extensions>=4.3.0 in c:\\users\\12016\\appdata\\local\\packages\\pythonsoftwarefoundation.python.3.10_qbz5n2kfra8p0\\localcache\\local-packages\\python310\\site-packages (from gymnasium==0.28.1->stable_baselines3) (4.3.0)\n",
            "Requirement already satisfied: farama-notifications>=0.0.1 in c:\\users\\12016\\appdata\\local\\packages\\pythonsoftwarefoundation.python.3.10_qbz5n2kfra8p0\\localcache\\local-packages\\python310\\site-packages (from gymnasium==0.28.1->stable_baselines3) (0.0.4)\n",
            "Requirement already satisfied: cycler>=0.10 in c:\\users\\12016\\appdata\\local\\packages\\pythonsoftwarefoundation.python.3.10_qbz5n2kfra8p0\\localcache\\local-packages\\python310\\site-packages (from matplotlib->stable_baselines3) (0.11.0)\n",
            "Requirement already satisfied: fonttools>=4.22.0 in c:\\users\\12016\\appdata\\local\\packages\\pythonsoftwarefoundation.python.3.10_qbz5n2kfra8p0\\localcache\\local-packages\\python310\\site-packages (from matplotlib->stable_baselines3) (4.34.4)\n",
            "Requirement already satisfied: kiwisolver>=1.0.1 in c:\\users\\12016\\appdata\\local\\packages\\pythonsoftwarefoundation.python.3.10_qbz5n2kfra8p0\\localcache\\local-packages\\python310\\site-packages (from matplotlib->stable_baselines3) (1.4.4)\n",
            "Requirement already satisfied: packaging>=20.0 in c:\\users\\12016\\appdata\\local\\packages\\pythonsoftwarefoundation.python.3.10_qbz5n2kfra8p0\\localcache\\local-packages\\python310\\site-packages (from matplotlib->stable_baselines3) (21.3)\n",
            "Requirement already satisfied: pillow>=6.2.0 in c:\\users\\12016\\appdata\\local\\packages\\pythonsoftwarefoundation.python.3.10_qbz5n2kfra8p0\\localcache\\local-packages\\python310\\site-packages (from matplotlib->stable_baselines3) (9.2.0)\n",
            "Requirement already satisfied: pyparsing>=2.2.1 in c:\\users\\12016\\appdata\\local\\packages\\pythonsoftwarefoundation.python.3.10_qbz5n2kfra8p0\\localcache\\local-packages\\python310\\site-packages (from matplotlib->stable_baselines3) (3.0.9)\n",
            "Requirement already satisfied: python-dateutil>=2.7 in c:\\users\\12016\\appdata\\local\\packages\\pythonsoftwarefoundation.python.3.10_qbz5n2kfra8p0\\localcache\\local-packages\\python310\\site-packages (from matplotlib->stable_baselines3) (2.8.2)\n",
            "Requirement already satisfied: pytz>=2020.1 in c:\\users\\12016\\appdata\\local\\packages\\pythonsoftwarefoundation.python.3.10_qbz5n2kfra8p0\\localcache\\local-packages\\python310\\site-packages (from pandas->stable_baselines3) (2022.1)\n",
            "Requirement already satisfied: six>=1.5 in c:\\users\\12016\\appdata\\local\\packages\\pythonsoftwarefoundation.python.3.10_qbz5n2kfra8p0\\localcache\\local-packages\\python310\\site-packages (from python-dateutil>=2.7->matplotlib->stable_baselines3) (1.16.0)\n",
            "Note: you may need to restart the kernel to use updated packages.\n"
          ]
        },
        {
          "name": "stderr",
          "output_type": "stream",
          "text": [
            "WARNING: Ignoring invalid distribution -rotobuf (c:\\users\\12016\\appdata\\local\\packages\\pythonsoftwarefoundation.python.3.10_qbz5n2kfra8p0\\localcache\\local-packages\\python310\\site-packages)\n",
            "WARNING: Ignoring invalid distribution -rotobuf (c:\\users\\12016\\appdata\\local\\packages\\pythonsoftwarefoundation.python.3.10_qbz5n2kfra8p0\\localcache\\local-packages\\python310\\site-packages)\n",
            "\n",
            "[notice] A new release of pip is available: 23.2 -> 23.2.1\n",
            "[notice] To update, run: C:\\Users\\12016\\AppData\\Local\\Microsoft\\WindowsApps\\PythonSoftwareFoundation.Python.3.10_qbz5n2kfra8p0\\python.exe -m pip install --upgrade pip\n"
          ]
        },
        {
          "name": "stdout",
          "output_type": "stream",
          "text": [
            "Requirement already satisfied: stable_baselines in c:\\users\\12016\\appdata\\local\\packages\\pythonsoftwarefoundation.python.3.10_qbz5n2kfra8p0\\localcache\\local-packages\\python310\\site-packages (2.10.2)\n",
            "Requirement already satisfied: gym[atari,classic_control]>=0.11 in c:\\users\\12016\\appdata\\local\\packages\\pythonsoftwarefoundation.python.3.10_qbz5n2kfra8p0\\localcache\\local-packages\\python310\\site-packages (from stable_baselines) (0.26.2)\n",
            "Requirement already satisfied: scipy in c:\\users\\12016\\appdata\\local\\packages\\pythonsoftwarefoundation.python.3.10_qbz5n2kfra8p0\\localcache\\local-packages\\python310\\site-packages (from stable_baselines) (1.8.1)\n",
            "Requirement already satisfied: joblib in c:\\users\\12016\\appdata\\local\\packages\\pythonsoftwarefoundation.python.3.10_qbz5n2kfra8p0\\localcache\\local-packages\\python310\\site-packages (from stable_baselines) (1.3.1)\n",
            "Requirement already satisfied: cloudpickle>=0.5.5 in c:\\users\\12016\\appdata\\local\\packages\\pythonsoftwarefoundation.python.3.10_qbz5n2kfra8p0\\localcache\\local-packages\\python310\\site-packages (from stable_baselines) (2.2.1)\n",
            "Requirement already satisfied: opencv-python in c:\\users\\12016\\appdata\\local\\packages\\pythonsoftwarefoundation.python.3.10_qbz5n2kfra8p0\\localcache\\local-packages\\python310\\site-packages (from stable_baselines) (4.8.0.74)\n",
            "Requirement already satisfied: numpy in c:\\users\\12016\\appdata\\local\\packages\\pythonsoftwarefoundation.python.3.10_qbz5n2kfra8p0\\localcache\\local-packages\\python310\\site-packages (from stable_baselines) (1.24.3)\n",
            "Requirement already satisfied: pandas in c:\\users\\12016\\appdata\\local\\packages\\pythonsoftwarefoundation.python.3.10_qbz5n2kfra8p0\\localcache\\local-packages\\python310\\site-packages (from stable_baselines) (1.4.3)\n",
            "Requirement already satisfied: matplotlib in c:\\users\\12016\\appdata\\local\\packages\\pythonsoftwarefoundation.python.3.10_qbz5n2kfra8p0\\localcache\\local-packages\\python310\\site-packages (from stable_baselines) (3.5.2)\n",
            "Requirement already satisfied: gym-notices>=0.0.4 in c:\\users\\12016\\appdata\\local\\packages\\pythonsoftwarefoundation.python.3.10_qbz5n2kfra8p0\\localcache\\local-packages\\python310\\site-packages (from gym[atari,classic_control]>=0.11->stable_baselines) (0.0.8)\n",
            "Requirement already satisfied: pygame==2.1.0 in c:\\users\\12016\\appdata\\local\\packages\\pythonsoftwarefoundation.python.3.10_qbz5n2kfra8p0\\localcache\\local-packages\\python310\\site-packages (from gym[atari,classic_control]>=0.11->stable_baselines) (2.1.0)\n",
            "Requirement already satisfied: ale-py~=0.8.0 in c:\\users\\12016\\appdata\\local\\packages\\pythonsoftwarefoundation.python.3.10_qbz5n2kfra8p0\\localcache\\local-packages\\python310\\site-packages (from gym[atari,classic_control]>=0.11->stable_baselines) (0.8.1)\n",
            "Requirement already satisfied: cycler>=0.10 in c:\\users\\12016\\appdata\\local\\packages\\pythonsoftwarefoundation.python.3.10_qbz5n2kfra8p0\\localcache\\local-packages\\python310\\site-packages (from matplotlib->stable_baselines) (0.11.0)\n",
            "Requirement already satisfied: fonttools>=4.22.0 in c:\\users\\12016\\appdata\\local\\packages\\pythonsoftwarefoundation.python.3.10_qbz5n2kfra8p0\\localcache\\local-packages\\python310\\site-packages (from matplotlib->stable_baselines) (4.34.4)\n",
            "Requirement already satisfied: kiwisolver>=1.0.1 in c:\\users\\12016\\appdata\\local\\packages\\pythonsoftwarefoundation.python.3.10_qbz5n2kfra8p0\\localcache\\local-packages\\python310\\site-packages (from matplotlib->stable_baselines) (1.4.4)\n",
            "Requirement already satisfied: packaging>=20.0 in c:\\users\\12016\\appdata\\local\\packages\\pythonsoftwarefoundation.python.3.10_qbz5n2kfra8p0\\localcache\\local-packages\\python310\\site-packages (from matplotlib->stable_baselines) (21.3)\n",
            "Requirement already satisfied: pillow>=6.2.0 in c:\\users\\12016\\appdata\\local\\packages\\pythonsoftwarefoundation.python.3.10_qbz5n2kfra8p0\\localcache\\local-packages\\python310\\site-packages (from matplotlib->stable_baselines) (9.2.0)\n",
            "Requirement already satisfied: pyparsing>=2.2.1 in c:\\users\\12016\\appdata\\local\\packages\\pythonsoftwarefoundation.python.3.10_qbz5n2kfra8p0\\localcache\\local-packages\\python310\\site-packages (from matplotlib->stable_baselines) (3.0.9)\n",
            "Requirement already satisfied: python-dateutil>=2.7 in c:\\users\\12016\\appdata\\local\\packages\\pythonsoftwarefoundation.python.3.10_qbz5n2kfra8p0\\localcache\\local-packages\\python310\\site-packages (from matplotlib->stable_baselines) (2.8.2)\n",
            "Requirement already satisfied: pytz>=2020.1 in c:\\users\\12016\\appdata\\local\\packages\\pythonsoftwarefoundation.python.3.10_qbz5n2kfra8p0\\localcache\\local-packages\\python310\\site-packages (from pandas->stable_baselines) (2022.1)\n",
            "Requirement already satisfied: importlib-resources in c:\\users\\12016\\appdata\\local\\packages\\pythonsoftwarefoundation.python.3.10_qbz5n2kfra8p0\\localcache\\local-packages\\python310\\site-packages (from ale-py~=0.8.0->gym[atari,classic_control]>=0.11->stable_baselines) (6.0.0)\n",
            "Requirement already satisfied: typing-extensions in c:\\users\\12016\\appdata\\local\\packages\\pythonsoftwarefoundation.python.3.10_qbz5n2kfra8p0\\localcache\\local-packages\\python310\\site-packages (from ale-py~=0.8.0->gym[atari,classic_control]>=0.11->stable_baselines) (4.3.0)\n",
            "Requirement already satisfied: six>=1.5 in c:\\users\\12016\\appdata\\local\\packages\\pythonsoftwarefoundation.python.3.10_qbz5n2kfra8p0\\localcache\\local-packages\\python310\\site-packages (from python-dateutil>=2.7->matplotlib->stable_baselines) (1.16.0)\n",
            "Note: you may need to restart the kernel to use updated packages.\n"
          ]
        },
        {
          "name": "stderr",
          "output_type": "stream",
          "text": [
            "WARNING: Ignoring invalid distribution -rotobuf (c:\\users\\12016\\appdata\\local\\packages\\pythonsoftwarefoundation.python.3.10_qbz5n2kfra8p0\\localcache\\local-packages\\python310\\site-packages)\n",
            "WARNING: Ignoring invalid distribution -rotobuf (c:\\users\\12016\\appdata\\local\\packages\\pythonsoftwarefoundation.python.3.10_qbz5n2kfra8p0\\localcache\\local-packages\\python310\\site-packages)\n",
            "\n",
            "[notice] A new release of pip is available: 23.2 -> 23.2.1\n",
            "[notice] To update, run: C:\\Users\\12016\\AppData\\Local\\Microsoft\\WindowsApps\\PythonSoftwareFoundation.Python.3.10_qbz5n2kfra8p0\\python.exe -m pip install --upgrade pip\n"
          ]
        }
      ],
      "source": [
        "%pip install gymnasium\n",
        "%pip install stable_baselines3\n",
        "%pip install stable_baselines\n"
      ]
    },
    {
      "cell_type": "code",
      "execution_count": 67,
      "metadata": {},
      "outputs": [
        {
          "name": "stdout",
          "output_type": "stream",
          "text": [
            "Requirement already satisfied: keras in c:\\users\\12016\\appdata\\local\\packages\\pythonsoftwarefoundation.python.3.10_qbz5n2kfra8p0\\localcache\\local-packages\\python310\\site-packages (2.13.1)\n",
            "Note: you may need to restart the kernel to use updated packages.\n"
          ]
        },
        {
          "name": "stderr",
          "output_type": "stream",
          "text": [
            "WARNING: Ignoring invalid distribution -rotobuf (c:\\users\\12016\\appdata\\local\\packages\\pythonsoftwarefoundation.python.3.10_qbz5n2kfra8p0\\localcache\\local-packages\\python310\\site-packages)\n",
            "WARNING: Ignoring invalid distribution -rotobuf (c:\\users\\12016\\appdata\\local\\packages\\pythonsoftwarefoundation.python.3.10_qbz5n2kfra8p0\\localcache\\local-packages\\python310\\site-packages)\n",
            "\n",
            "[notice] A new release of pip is available: 23.2 -> 23.2.1\n",
            "[notice] To update, run: C:\\Users\\12016\\AppData\\Local\\Microsoft\\WindowsApps\\PythonSoftwareFoundation.Python.3.10_qbz5n2kfra8p0\\python.exe -m pip install --upgrade pip\n"
          ]
        }
      ],
      "source": [
        "%pip install keras\n"
      ]
    },
    {
      "cell_type": "code",
      "execution_count": 68,
      "metadata": {},
      "outputs": [
        {
          "name": "stdout",
          "output_type": "stream",
          "text": [
            "Requirement already satisfied: pip in c:\\users\\12016\\appdata\\local\\packages\\pythonsoftwarefoundation.python.3.10_qbz5n2kfra8p0\\localcache\\local-packages\\python310\\site-packages (23.2)\n",
            "Collecting pip\n",
            "  Obtaining dependency information for pip from https://files.pythonhosted.org/packages/50/c2/e06851e8cc28dcad7c155f4753da8833ac06a5c704c109313b8d5a62968a/pip-23.2.1-py3-none-any.whl.metadata\n",
            "  Downloading pip-23.2.1-py3-none-any.whl.metadata (4.2 kB)\n",
            "Downloading pip-23.2.1-py3-none-any.whl (2.1 MB)\n",
            "   ---------------------------------------- 2.1/2.1 MB 2.5 MB/s eta 0:00:00\n",
            "Installing collected packages: pip\n",
            "  Attempting uninstall: pip\n",
            "    Found existing installation: pip 23.2\n",
            "    Uninstalling pip-23.2:\n",
            "      Successfully uninstalled pip-23.2\n",
            "Successfully installed pip-23.2.1\n",
            "Note: you may need to restart the kernel to use updated packages.\n"
          ]
        },
        {
          "name": "stderr",
          "output_type": "stream",
          "text": [
            "WARNING: Ignoring invalid distribution -rotobuf (c:\\users\\12016\\appdata\\local\\packages\\pythonsoftwarefoundation.python.3.10_qbz5n2kfra8p0\\localcache\\local-packages\\python310\\site-packages)\n",
            "WARNING: Ignoring invalid distribution -rotobuf (c:\\users\\12016\\appdata\\local\\packages\\pythonsoftwarefoundation.python.3.10_qbz5n2kfra8p0\\localcache\\local-packages\\python310\\site-packages)\n",
            "  WARNING: The scripts pip.exe, pip3.10.exe and pip3.exe are installed in 'C:\\Users\\12016\\AppData\\Local\\Packages\\PythonSoftwareFoundation.Python.3.10_qbz5n2kfra8p0\\LocalCache\\local-packages\\Python310\\Scripts' which is not on PATH.\n",
            "  Consider adding this directory to PATH or, if you prefer to suppress this warning, use --no-warn-script-location.\n"
          ]
        }
      ],
      "source": [
        "%pip install --upgrade pip"
      ]
    },
    {
      "cell_type": "code",
      "execution_count": 2,
      "metadata": {
        "colab": {
          "base_uri": "https://localhost:8080/"
        },
        "id": "4GwItbhKptYL",
        "outputId": "d807f457-2636-4100-aeda-155e5a6382c5"
      },
      "outputs": [],
      "source": [
        "import gym\n",
        "from stable_baselines3 import PPO, A2C\n",
        "from stable_baselines3.common.env_util import make_vec_env\n",
        "from stable_baselines3.common.vec_env import DummyVecEnv\n",
        "import numpy as np\n",
        "from gym_anytrading.envs import StocksEnv\n",
        "import gym_anytrading\n",
        "import quantstats as qs\n",
        "import pandas as pd\n",
        "import matplotlib.pyplot as plt\n",
        "import logging\n",
        "\n"
      ]
    },
    {
      "cell_type": "code",
      "execution_count": 27,
      "metadata": {},
      "outputs": [],
      "source": [
        "logger = logging.getLogger('training')\n",
        "logger.setLevel(logging.INFO)\n",
        "\n",
        "file_handler = logging.FileHandler('training.log')\n",
        "formatter = logging.Formatter('%(asctime)s - %(message)s')\n",
        "file_handler.setFormatter(formatter)\n",
        "logger.addHandler(file_handler)"
      ]
    },
    {
      "cell_type": "code",
      "execution_count": 28,
      "metadata": {
        "colab": {
          "base_uri": "https://localhost:8080/"
        },
        "id": "I_KR3I7wxkn5",
        "outputId": "5cb82a32-7957-410b-f66c-993985e624f6"
      },
      "outputs": [
        {
          "name": "stdout",
          "output_type": "stream",
          "text": [
            "[*********************100%***********************]  1 of 1 completed\n",
            "[*********************100%***********************]  1 of 1 completed\n"
          ]
        }
      ],
      "source": [
        "import yfinance as yf\n",
        "vgt_data = yf.download(\"VGT\", period = '5y')\n",
        "voo_data = yf.download(\"VOO\", period = '5y')\n",
        "\n",
        "data = pd.concat([vgt_data, voo_data]) "
      ]
    },
    {
      "cell_type": "code",
      "execution_count": 29,
      "metadata": {},
      "outputs": [],
      "source": [
        "#SIMPLE 80:20 SPLIT\n",
        "\n",
        "split_index = int(len(data) * 0.8)\n",
        "train_df = data[:split_index]\n",
        "val_df = data[split_index:]"
      ]
    },
    {
      "cell_type": "code",
      "execution_count": 30,
      "metadata": {},
      "outputs": [],
      "source": [
        "#Rolling window split. Two year training data\n",
        "\n",
        "train_df = data[:2*365]\n",
        "val_df_1 = data[2*365:3*365]\n",
        "val_df_2 = data[3*365:4*365]\n",
        "val_df_3 = data[4*365:5*365]"
      ]
    },
    {
      "cell_type": "code",
      "execution_count": 39,
      "metadata": {},
      "outputs": [],
      "source": [
        "def ModelCreation():\n",
        "\n",
        "    #Creating Logging env\n",
        "    logger = logging.getLogger('training')\n",
        "    logger.setLevel(logging.INFO)\n",
        "\n",
        "    file_handler = logging.FileHandler('training.log')\n",
        "    formatter = logging.Formatter('%(asctime)s - %(message)s')\n",
        "    file_handler.setFormatter(formatter)\n",
        "    logger.addHandler(file_handler)\n",
        "\n",
        "    #Creating training env\n",
        "\n",
        "    window_size = 10\n",
        "    start_index = window_size\n",
        "    end_index = len(data)\n",
        "\n",
        "    train_env = gym.make(\n",
        "            'stocks-v0',\n",
        "            df = train_df,\n",
        "            window_size = window_size,\n",
        "            frame_bound = (start_index, end_index)\n",
        "        )\n",
        "\n",
        "    val_env1 = gym.make(\n",
        "        'stocks-v0',\n",
        "        df = val_df_1,\n",
        "        window_size = window_size,\n",
        "        frame_bound = (start_index, end_index)\n",
        "    )\n",
        "\n",
        "\n",
        "\n",
        "\n",
        "    val_env2 = gym.make(\n",
        "        'stocks-v0',\n",
        "        df = val_df_2,\n",
        "        window_size = window_size,\n",
        "        frame_bound = (start_index, end_index)\n",
        "    )\n",
        "\n",
        "\n",
        "\n",
        "    val_env3 = gym.make(\n",
        "        'stocks-v0',\n",
        "        df = val_df_3,\n",
        "        window_size = window_size,\n",
        "        frame_bound = (start_index, end_index)\n",
        "    )\n",
        "\n",
        "    env = DummyVecEnv([lambda : train_env, lambda : val_env1, lambda : val_env2, lambda : val_env3])\n",
        "\n",
        "    file_handler.close()\n",
        "    logger.removeHandler(file_handler)\n",
        "\n",
        "    file_handler = logging.FileHandler('training.log')\n",
        "    logger.addHandler(file_handler)\n",
        "\n",
        "\n",
        "    logger.info('Initializing the PPO and A2C models...')\n",
        "    ppo_agent = PPO('MlpPolicy', train_env, verbose=1)\n",
        "    a2c_agent = A2C('MlpPolicy', train_env, verbose=1)\n",
        "\n",
        "    logger.info('Training the PPO Agent...')\n",
        "    ppo_agent.learn(total_timesteps=1000)\n",
        "\n",
        "    logger.info('Training the A2C Agent...')\n",
        "    a2c_agent.learn(total_timesteps=1000)\n",
        "\n",
        "    logger.info('Training is complete')\n",
        "\n",
        "    \n",
        "\n",
        "    def evalModel():\n",
        "        ppo_rewards = []\n",
        "        obs1 = val_env1.reset()\n",
        "\n",
        "        while True:\n",
        "            action, _ = ppo_agent.predict(obs1)\n",
        "            logger.info(f'PPO Took action {action} in state {obs1}')\n",
        "            obs, reward, done, info = val_env1.step(action)\n",
        "            ppo_rewards.append(reward)\n",
        "\n",
        "            if done:\n",
        "                break\n",
        "\n",
        "        print('PPO average validation reward: ', np.mean(ppo_rewards))\n",
        "\n",
        "        a2c_rewards = []\n",
        "        obs2 = val_env1.reset()\n",
        "\n",
        "        while True:\n",
        "            action, _ = a2c_agent.predict(obs2)\n",
        "            obs, reward, done, info = val_env1.step(action)\n",
        "            a2c_rewards.append(reward)\n",
        "\n",
        "            if done:\n",
        "                break\n",
        "\n",
        "        print('PPO average validation reward: ', np.mean(a2c_rewards))\n",
        "\n",
        "        if np.mean(ppo_rewards) > np.mean(a2c_rewards):\n",
        "            agent = ppo_agent\n",
        "            action, _ = agent.predict(obs2)\n",
        "            print('Agent chosen is: PPO')\n",
        "        else:\n",
        "            agent = a2c_agent\n",
        "            action, _ = agent.predict(obs)\n",
        "            print('Agent chosen is: A2C')\n",
        "\n",
        "\n",
        "\n",
        "\n",
        "        print(\"info:\", info)\n",
        "    evalModel()\n",
        "            "
      ]
    },
    {
      "cell_type": "code",
      "execution_count": 40,
      "metadata": {},
      "outputs": [
        {
          "name": "stderr",
          "output_type": "stream",
          "text": [
            "C:\\Users\\12016\\AppData\\Local\\Packages\\PythonSoftwareFoundation.Python.3.10_qbz5n2kfra8p0\\LocalCache\\local-packages\\Python310\\site-packages\\gym\\utils\\passive_env_checker.py:31: UserWarning: \u001b[33mWARN: A Box observation space has an unconventional shape (neither an image, nor a 1D vector). We recommend flattening the observation to have only a 1D vector or use a custom policy to properly process the data. Actual observation shape: (10, 2)\u001b[0m\n",
            "  logger.warn(\n",
            "C:\\Users\\12016\\AppData\\Local\\Packages\\PythonSoftwareFoundation.Python.3.10_qbz5n2kfra8p0\\LocalCache\\local-packages\\Python310\\site-packages\\stable_baselines3\\common\\vec_env\\patch_gym.py:49: UserWarning: You provided an OpenAI Gym environment. We strongly recommend transitioning to Gymnasium environments. Stable-Baselines3 is automatically wrapping your environments in a compatibility layer, which could potentially cause issues.\n",
            "  warnings.warn(\n",
            "C:\\Users\\12016\\AppData\\Local\\Packages\\PythonSoftwareFoundation.Python.3.10_qbz5n2kfra8p0\\LocalCache\\local-packages\\Python310\\site-packages\\gym\\utils\\passive_env_checker.py:174: UserWarning: \u001b[33mWARN: Future gym versions will require that `Env.reset` can be passed a `seed` instead of using `Env.seed` for resetting the environment random number generator.\u001b[0m\n",
            "  logger.warn(\n",
            "C:\\Users\\12016\\AppData\\Local\\Packages\\PythonSoftwareFoundation.Python.3.10_qbz5n2kfra8p0\\LocalCache\\local-packages\\Python310\\site-packages\\gym\\utils\\passive_env_checker.py:187: UserWarning: \u001b[33mWARN: Future gym versions will require that `Env.reset` can be passed `options` to allow the environment initialisation to be passed additional information.\u001b[0m\n",
            "  logger.warn(\n",
            "C:\\Users\\12016\\AppData\\Local\\Packages\\PythonSoftwareFoundation.Python.3.10_qbz5n2kfra8p0\\LocalCache\\local-packages\\Python310\\site-packages\\gym\\utils\\passive_env_checker.py:195: UserWarning: \u001b[33mWARN: The result returned by `env.reset()` was not a tuple of the form `(obs, info)`, where `obs` is a observation and `info` is a dictionary containing additional information. Actual type: `<class 'numpy.ndarray'>`\u001b[0m\n",
            "  logger.warn(\n",
            "C:\\Users\\12016\\AppData\\Local\\Packages\\PythonSoftwareFoundation.Python.3.10_qbz5n2kfra8p0\\LocalCache\\local-packages\\Python310\\site-packages\\gym\\utils\\passive_env_checker.py:219: DeprecationWarning: \u001b[33mWARN: Core environment is written in old step API which returns one bool instead of two. It is recommended to rewrite the environment with new step API. \u001b[0m\n",
            "  logger.deprecation(\n",
            "C:\\Users\\12016\\AppData\\Local\\Packages\\PythonSoftwareFoundation.Python.3.10_qbz5n2kfra8p0\\LocalCache\\local-packages\\Python310\\site-packages\\gym\\utils\\passive_env_checker.py:225: DeprecationWarning: `np.bool8` is a deprecated alias for `np.bool_`.  (Deprecated NumPy 1.24)\n",
            "  if not isinstance(done, (bool, np.bool8)):\n"
          ]
        },
        {
          "name": "stdout",
          "output_type": "stream",
          "text": [
            "Using cpu device\n",
            "Wrapping the env with a `Monitor` wrapper\n",
            "Wrapping the env in a DummyVecEnv.\n",
            "Using cpu device\n",
            "Wrapping the env with a `Monitor` wrapper\n",
            "Wrapping the env in a DummyVecEnv.\n",
            "---------------------------------\n",
            "| rollout/           |          |\n",
            "|    ep_len_mean     | 719      |\n",
            "|    ep_rew_mean     | 132      |\n",
            "| time/              |          |\n",
            "|    fps             | 2207     |\n",
            "|    iterations      | 1        |\n",
            "|    time_elapsed    | 0        |\n",
            "|    total_timesteps | 2048     |\n",
            "---------------------------------\n",
            "-------------------------------------\n",
            "| time/                 |           |\n",
            "|    fps                | 1127      |\n",
            "|    iterations         | 100       |\n",
            "|    time_elapsed       | 0         |\n",
            "|    total_timesteps    | 500       |\n",
            "| train/                |           |\n",
            "|    entropy_loss       | -0.692    |\n",
            "|    explained_variance | -1.19e-07 |\n",
            "|    learning_rate      | 0.0007    |\n",
            "|    n_updates          | 99        |\n",
            "|    policy_loss        | -2.73     |\n",
            "|    value_loss         | 25.3      |\n",
            "-------------------------------------\n",
            "------------------------------------\n",
            "| rollout/              |          |\n",
            "|    ep_len_mean        | 719      |\n",
            "|    ep_rew_mean        | 88.3     |\n",
            "| time/                 |          |\n",
            "|    fps                | 1129     |\n",
            "|    iterations         | 200      |\n",
            "|    time_elapsed       | 0        |\n",
            "|    total_timesteps    | 1000     |\n",
            "| train/                |          |\n",
            "|    entropy_loss       | -0.68    |\n",
            "|    explained_variance | 0        |\n",
            "|    learning_rate      | 0.0007   |\n",
            "|    n_updates          | 199      |\n",
            "|    policy_loss        | -0.253   |\n",
            "|    value_loss         | 0.723    |\n",
            "------------------------------------\n",
            "PPO average validation reward:  -0.01954788811462747\n",
            "PPO average validation reward:  -0.0983332402288577\n",
            "Agent chosen is: PPO\n",
            "info: {'total_reward': -34.809967041015625, 'total_profit': 0.27212291508522823, 'position': 1}\n"
          ]
        }
      ],
      "source": [
        "ModelCreation()"
      ]
    },
    {
      "cell_type": "code",
      "execution_count": 6,
      "metadata": {
        "colab": {
          "base_uri": "https://localhost:8080/"
        },
        "id": "PFOoJdv2xp__",
        "outputId": "87d2c648-c473-4366-c62c-126f6e5619cc"
      },
      "outputs": [
        {
          "name": "stderr",
          "output_type": "stream",
          "text": [
            "C:\\Users\\12016\\AppData\\Local\\Packages\\PythonSoftwareFoundation.Python.3.10_qbz5n2kfra8p0\\LocalCache\\local-packages\\Python310\\site-packages\\gym\\utils\\passive_env_checker.py:31: UserWarning: \u001b[33mWARN: A Box observation space has an unconventional shape (neither an image, nor a 1D vector). We recommend flattening the observation to have only a 1D vector or use a custom policy to properly process the data. Actual observation shape: (10, 2)\u001b[0m\n",
            "  logger.warn(\n"
          ]
        }
      ],
      "source": [
        "#TRAINING\n",
        "\n",
        "\n",
        "window_size = 10\n",
        "start_index = window_size\n",
        "end_index = len(data)\n",
        "\n",
        "train_env = gym.make(\n",
        "    'stocks-v0',\n",
        "    df = train_df,\n",
        "    window_size = window_size,\n",
        "    frame_bound = (start_index, end_index)\n",
        ")\n",
        "\n"
      ]
    },
    {
      "cell_type": "code",
      "execution_count": 7,
      "metadata": {},
      "outputs": [
        {
          "name": "stderr",
          "output_type": "stream",
          "text": [
            "C:\\Users\\12016\\AppData\\Local\\Packages\\PythonSoftwareFoundation.Python.3.10_qbz5n2kfra8p0\\LocalCache\\local-packages\\Python310\\site-packages\\stable_baselines3\\common\\vec_env\\patch_gym.py:49: UserWarning: You provided an OpenAI Gym environment. We strongly recommend transitioning to Gymnasium environments. Stable-Baselines3 is automatically wrapping your environments in a compatibility layer, which could potentially cause issues.\n",
            "  warnings.warn(\n"
          ]
        }
      ],
      "source": [
        "#VALIDATION\n",
        "\n",
        "window_size = 10\n",
        "start_index = window_size\n",
        "end_index = len(data)\n",
        "\n",
        "val_env1 = gym.make(\n",
        "    'stocks-v0',\n",
        "    df = val_df_1,\n",
        "    window_size = window_size,\n",
        "    frame_bound = (start_index, end_index)\n",
        ")\n",
        "\n",
        "\n",
        "\n",
        "\n",
        "\n",
        "window_size = 10\n",
        "start_index = window_size\n",
        "end_index = len(data)\n",
        "\n",
        "val_env2 = gym.make(\n",
        "    'stocks-v0',\n",
        "    df = val_df_2,\n",
        "    window_size = window_size,\n",
        "    frame_bound = (start_index, end_index)\n",
        ")\n",
        "\n",
        "\n",
        "\n",
        "window_size = 10\n",
        "start_index = window_size\n",
        "end_index = len(data)\n",
        "\n",
        "val_env3 = gym.make(\n",
        "    'stocks-v0',\n",
        "    df = val_df_3,\n",
        "    window_size = window_size,\n",
        "    frame_bound = (start_index, end_index)\n",
        ")\n",
        "\n",
        "env = DummyVecEnv([lambda : train_env, lambda : val_env1, lambda : val_env2, lambda : val_env3])"
      ]
    },
    {
      "cell_type": "code",
      "execution_count": 12,
      "metadata": {},
      "outputs": [],
      "source": [
        "file_handler.close()\n",
        "logger.removeHandler(file_handler)\n",
        "\n",
        "file_handler = logging.FileHandler('training.log')\n",
        "logger.addHandler(file_handler)"
      ]
    },
    {
      "cell_type": "code",
      "execution_count": 13,
      "metadata": {},
      "outputs": [
        {
          "name": "stdout",
          "output_type": "stream",
          "text": [
            "Using cpu device\n",
            "Wrapping the env with a `Monitor` wrapper\n",
            "Wrapping the env in a DummyVecEnv.\n",
            "Using cpu device\n",
            "Wrapping the env with a `Monitor` wrapper\n",
            "Wrapping the env in a DummyVecEnv.\n"
          ]
        },
        {
          "name": "stderr",
          "output_type": "stream",
          "text": [
            "C:\\Users\\12016\\AppData\\Local\\Packages\\PythonSoftwareFoundation.Python.3.10_qbz5n2kfra8p0\\LocalCache\\local-packages\\Python310\\site-packages\\stable_baselines3\\common\\vec_env\\patch_gym.py:49: UserWarning: You provided an OpenAI Gym environment. We strongly recommend transitioning to Gymnasium environments. Stable-Baselines3 is automatically wrapping your environments in a compatibility layer, which could potentially cause issues.\n",
            "  warnings.warn(\n"
          ]
        },
        {
          "name": "stdout",
          "output_type": "stream",
          "text": [
            "---------------------------------\n",
            "| rollout/           |          |\n",
            "|    ep_len_mean     | 719      |\n",
            "|    ep_rew_mean     | 118      |\n",
            "| time/              |          |\n",
            "|    fps             | 2238     |\n",
            "|    iterations      | 1        |\n",
            "|    time_elapsed    | 0        |\n",
            "|    total_timesteps | 2048     |\n",
            "---------------------------------\n",
            "-------------------------------------\n",
            "| time/                 |           |\n",
            "|    fps                | 1098      |\n",
            "|    iterations         | 100       |\n",
            "|    time_elapsed       | 0         |\n",
            "|    total_timesteps    | 500       |\n",
            "| train/                |           |\n",
            "|    entropy_loss       | -0.647    |\n",
            "|    explained_variance | -1.19e-07 |\n",
            "|    learning_rate      | 0.0007    |\n",
            "|    n_updates          | 99        |\n",
            "|    policy_loss        | -1.57     |\n",
            "|    value_loss         | 10.7      |\n",
            "-------------------------------------\n",
            "-------------------------------------\n",
            "| rollout/              |           |\n",
            "|    ep_len_mean        | 719       |\n",
            "|    ep_rew_mean        | 56.5      |\n",
            "| time/                 |           |\n",
            "|    fps                | 1100      |\n",
            "|    iterations         | 200       |\n",
            "|    time_elapsed       | 0         |\n",
            "|    total_timesteps    | 1000      |\n",
            "| train/                |           |\n",
            "|    entropy_loss       | -0.692    |\n",
            "|    explained_variance | -1.19e-07 |\n",
            "|    learning_rate      | 0.0007    |\n",
            "|    n_updates          | 199       |\n",
            "|    policy_loss        | -1.35     |\n",
            "|    value_loss         | 4.15      |\n",
            "-------------------------------------\n"
          ]
        }
      ],
      "source": [
        "logger.info('Initializing the PPO and A2C models...')\n",
        "ppo_agent = PPO('MlpPolicy', train_env, verbose=1)\n",
        "a2c_agent = A2C('MlpPolicy', train_env, verbose=1)\n",
        "\n",
        "logger.info('Training the PPO Agent...')\n",
        "ppo_agent.learn(total_timesteps=1000)\n",
        "\n",
        "logger.info('Training the A2C Agent...')\n",
        "a2c_agent.learn(total_timesteps=1000)\n",
        "\n",
        "logger.info('Training is complete')"
      ]
    },
    {
      "cell_type": "code",
      "execution_count": null,
      "metadata": {},
      "outputs": [],
      "source": []
    },
    {
      "cell_type": "code",
      "execution_count": 21,
      "metadata": {},
      "outputs": [
        {
          "name": "stdout",
          "output_type": "stream",
          "text": [
            "PPO average validation reward:  -0.2397172141209834\n"
          ]
        }
      ],
      "source": [
        "ppo_rewards = []\n",
        "obs = val_env1.reset()\n",
        "\n",
        "while True:\n",
        "    action, _ = ppo_agent.predict(obs)\n",
        "    logger.info(f'PPO Took action {action} in state {obs}')\n",
        "    obs, reward, done, info = val_env1.step(action)\n",
        "    ppo_rewards.append(reward)\n",
        "\n",
        "    if done:\n",
        "        break\n",
        "\n",
        "print('PPO average validation reward: ', np.mean(ppo_rewards))\n",
        "\n"
      ]
    },
    {
      "cell_type": "code",
      "execution_count": 54,
      "metadata": {},
      "outputs": [
        {
          "name": "stdout",
          "output_type": "stream",
          "text": [
            "PPO average validation reward:  0.03855672696741616\n"
          ]
        }
      ],
      "source": [
        "a2c_rewards = []\n",
        "obs = val_env.reset()\n",
        "\n",
        "while True:\n",
        "    action, _ = a2c_agent.predict(obs)\n",
        "    obs, reward, done, info = val_env.step(action)\n",
        "    a2c_rewards.append(reward)\n",
        "\n",
        "    if done:\n",
        "        break\n",
        "\n",
        "print('PPO average validation reward: ', np.mean(a2c_rewards))\n"
      ]
    },
    {
      "cell_type": "code",
      "execution_count": 55,
      "metadata": {},
      "outputs": [
        {
          "name": "stdout",
          "output_type": "stream",
          "text": [
            "Agent chosen is: A2C\n",
            "info: {'total_reward': 18.96990966796875, 'total_profit': 0.1681454237948316, 'position': 1}\n"
          ]
        }
      ],
      "source": [
        "if np.mean(ppo_rewards) > np.mean(a2c_rewards):\n",
        "  agent = ppo_agent\n",
        "  action, _ = agent.predict(obs)\n",
        "  print('Agent chosen is: PPO')\n",
        "else:\n",
        "  agent = a2c_agent\n",
        "  action, _ = agent.predict(obs)\n",
        "  print('Agent chosen is: A2C')\n",
        "\n",
        "\n",
        "\n",
        "\n",
        "print(\"info:\", info)"
      ]
    },
    {
      "cell_type": "code",
      "execution_count": 56,
      "metadata": {},
      "outputs": [
        {
          "data": {
            "image/png": "[encoded data removed]",
            "text/plain": [
              "<Figure size 432x288 with 1 Axes>"
            ]
          },
          "metadata": {
            "needs_background": "light"
          },
          "output_type": "display_data"
        }
      ],
      "source": [
        "plt.plot(ppo_rewards, label = 'PPO')\n",
        "plt.plot(a2c_rewards, label = 'A2C')\n",
        "\n",
        "plt.legend()\n",
        "plt.title('Agent Rewards')\n",
        "plt.show()"
      ]
    },
    {
      "cell_type": "code",
      "execution_count": 17,
      "metadata": {
        "colab": {
          "base_uri": "https://localhost:8080/",
          "height": 590
        },
        "id": "tMG8pw80ycHm",
        "outputId": "23a0ad28-a9bf-4454-9009-3ec41cf30430"
      },
      "outputs": [
        {
          "ename": "NameError",
          "evalue": "name 'envs' is not defined",
          "output_type": "error",
          "traceback": [
            "\u001b[1;31m---------------------------------------------------------------------------\u001b[0m",
            "\u001b[1;31mNameError\u001b[0m                                 Traceback (most recent call last)",
            "\u001b[1;32mc:\\Users\\12016\\OneDrive\\Desktop\\School Work\\FinTrade\\PPOA2C_Model.ipynb Cell 17\u001b[0m in \u001b[0;36m<cell line: 2>\u001b[1;34m()\u001b[0m\n\u001b[0;32m      <a href='vscode-notebook-cell:/c%3A/Users/12016/OneDrive/Desktop/School%20Work/FinTrade/PPOA2C_Model.ipynb#X22sZmlsZQ%3D%3D?line=0'>1</a>\u001b[0m plt\u001b[39m.\u001b[39mfigure(figsize\u001b[39m=\u001b[39m(\u001b[39m16\u001b[39m, \u001b[39m6\u001b[39m))\n\u001b[1;32m----> <a href='vscode-notebook-cell:/c%3A/Users/12016/OneDrive/Desktop/School%20Work/FinTrade/PPOA2C_Model.ipynb#X22sZmlsZQ%3D%3D?line=1'>2</a>\u001b[0m \u001b[39mfor\u001b[39;00m env \u001b[39min\u001b[39;00m envs:\n\u001b[0;32m      <a href='vscode-notebook-cell:/c%3A/Users/12016/OneDrive/Desktop/School%20Work/FinTrade/PPOA2C_Model.ipynb#X22sZmlsZQ%3D%3D?line=2'>3</a>\u001b[0m     env\u001b[39m.\u001b[39mrender()\n\u001b[0;32m      <a href='vscode-notebook-cell:/c%3A/Users/12016/OneDrive/Desktop/School%20Work/FinTrade/PPOA2C_Model.ipynb#X22sZmlsZQ%3D%3D?line=3'>4</a>\u001b[0m plt\u001b[39m.\u001b[39mshow()\n",
            "\u001b[1;31mNameError\u001b[0m: name 'envs' is not defined"
          ]
        },
        {
          "data": {
            "text/plain": [
              "<Figure size 1152x432 with 0 Axes>"
            ]
          },
          "metadata": {},
          "output_type": "display_data"
        }
      ],
      "source": [
        "plt.figure(figsize=(16, 6))\n",
        "for env in envs:\n",
        "    env.render()\n",
        "plt.show()"
      ]
    },
    {
      "cell_type": "code",
      "execution_count": 56,
      "metadata": {},
      "outputs": [
        {
          "data": {
            "text/plain": [
              "{}"
            ]
          },
          "execution_count": 56,
          "metadata": {},
          "output_type": "execute_result"
        }
      ],
      "source": [
        "env.history"
      ]
    },
    {
      "cell_type": "code",
      "execution_count": 54,
      "metadata": {
        "colab": {
          "base_uri": "https://localhost:8080/",
          "height": 1000
        },
        "id": "lnLBB5H3yeQz",
        "outputId": "25dc2773-f382-446d-eac8-1c129fc3f80a"
      },
      "outputs": [
        {
          "ename": "KeyError",
          "evalue": "'total_profit'",
          "output_type": "error",
          "traceback": [
            "\u001b[1;31m---------------------------------------------------------------------------\u001b[0m",
            "\u001b[1;31mKeyError\u001b[0m                                  Traceback (most recent call last)",
            "\u001b[1;32mc:\\Users\\12016\\OneDrive\\Desktop\\FinTrade\\PPOA2C_Model.ipynb Cell 10\u001b[0m in \u001b[0;36m<cell line: 3>\u001b[1;34m()\u001b[0m\n\u001b[0;32m      <a href='vscode-notebook-cell:/c%3A/Users/12016/OneDrive/Desktop/FinTrade/PPOA2C_Model.ipynb#X13sZmlsZQ%3D%3D?line=0'>1</a>\u001b[0m qs\u001b[39m.\u001b[39mextend_pandas()\n\u001b[1;32m----> <a href='vscode-notebook-cell:/c%3A/Users/12016/OneDrive/Desktop/FinTrade/PPOA2C_Model.ipynb#X13sZmlsZQ%3D%3D?line=2'>3</a>\u001b[0m net_worth \u001b[39m=\u001b[39m pd\u001b[39m.\u001b[39mSeries(env\u001b[39m.\u001b[39;49mhistory[\u001b[39m'\u001b[39;49m\u001b[39mtotal_profit\u001b[39;49m\u001b[39m'\u001b[39;49m], index\u001b[39m=\u001b[39mdata\u001b[39m.\u001b[39mindex[start_index\u001b[39m+\u001b[39m\u001b[39m1\u001b[39m:end_index])\n\u001b[0;32m      <a href='vscode-notebook-cell:/c%3A/Users/12016/OneDrive/Desktop/FinTrade/PPOA2C_Model.ipynb#X13sZmlsZQ%3D%3D?line=3'>4</a>\u001b[0m returns \u001b[39m=\u001b[39m net_worth\u001b[39m.\u001b[39mpct_change()\u001b[39m.\u001b[39miloc[\u001b[39m1\u001b[39m:]\n\u001b[0;32m      <a href='vscode-notebook-cell:/c%3A/Users/12016/OneDrive/Desktop/FinTrade/PPOA2C_Model.ipynb#X13sZmlsZQ%3D%3D?line=5'>6</a>\u001b[0m qs\u001b[39m.\u001b[39mreports\u001b[39m.\u001b[39mfull(returns)\n",
            "\u001b[1;31mKeyError\u001b[0m: 'total_profit'"
          ]
        }
      ],
      "source": [
        "qs.extend_pandas()\n",
        "\n",
        "net_worth = pd.Series(env.history['total_profit'], index=data.index[start_index+1:end_index])\n",
        "returns = net_worth.pct_change().iloc[1:]\n",
        "\n",
        "qs.reports.full(returns)"
      ]
    },
    {
      "cell_type": "code",
      "execution_count": null,
      "metadata": {
        "id": "y-y_ANP2ygO5"
      },
      "outputs": [],
      "source": []
    },
    {
      "cell_type": "code",
      "execution_count": null,
      "metadata": {},
      "outputs": [],
      "source": []
    }
  ],
  "metadata": {
    "colab": {
      "provenance": []
    },
    "kernelspec": {
      "display_name": "Python 3.10.11 64-bit (microsoft store)",
      "language": "python",
      "name": "python3"
    },
    "language_info": {
      "codemirror_mode": {
        "name": "ipython",
        "version": 3
      },
      "file_extension": ".py",
      "mimetype": "text/x-python",
      "name": "python",
      "nbconvert_exporter": "python",
      "pygments_lexer": "ipython3",
      "version": "3.10.11"
    },
    "vscode": {
      "interpreter": {
        "hash": "c66c414bb5828e35fb9401ff1a65441791869db0e134a48c3be4c6c28e754224"
      }
    }
  },
  "nbformat": 4,
  "nbformat_minor": 0
}
